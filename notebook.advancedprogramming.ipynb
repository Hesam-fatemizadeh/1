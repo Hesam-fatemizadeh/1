{
 "cells": [
  {
   "cell_type": "markdown",
   "id": "af7365f6-4642-43dd-a74e-72365d49e478",
   "metadata": {},
   "source": [
    "# **`session 5`**"
   ]
  },
  {
   "cell_type": "code",
   "execution_count": 14,
   "id": "2b32434e-d380-438c-8552-c5713f943835",
   "metadata": {},
   "outputs": [
    {
     "data": {
      "text/plain": [
       "93.17"
      ]
     },
     "execution_count": 14,
     "metadata": {},
     "output_type": "execute_result"
    }
   ],
   "source": [
    "float_point_multiplication = 1.21 * 77  #  snake_case\n",
    "float_point_multiplication"
   ]
  },
  {
   "cell_type": "code",
   "execution_count": 15,
   "id": "11c8d7de-c3c1-4c4d-af89-1c1face4949a",
   "metadata": {},
   "outputs": [
    {
     "data": {
      "text/plain": [
       "79"
      ]
     },
     "execution_count": 15,
     "metadata": {},
     "output_type": "execute_result"
    }
   ],
   "source": [
    "integerAddition=51+28  # camel case \n",
    "integerAddition"
   ]
  },
  {
   "cell_type": "markdown",
   "id": "95468df9-2b8c-44e4-8330-016bdecef45e",
   "metadata": {},
   "source": [
    "## `strings`"
   ]
  },
  {
   "cell_type": "code",
   "execution_count": 17,
   "id": "a303965e-17c4-4270-88aa-f2c69a59a776",
   "metadata": {},
   "outputs": [],
   "source": [
    "myName = 'HESAM'"
   ]
  },
  {
   "cell_type": "code",
   "execution_count": 18,
   "id": "18b3ed80-d2d3-452a-a914-5071f36b54d0",
   "metadata": {},
   "outputs": [
    {
     "name": "stdout",
     "output_type": "stream",
     "text": [
      "HESAM\n"
     ]
    }
   ],
   "source": [
    "print(myName)"
   ]
  },
  {
   "cell_type": "markdown",
   "id": "7c0c953f-b421-4f3d-a3f6-9501e8a4d20b",
   "metadata": {},
   "source": [
    "#### . string length "
   ]
  },
  {
   "cell_type": "code",
   "execution_count": 20,
   "id": "0eea2853-9b30-4066-b559-f7a0185fa4fd",
   "metadata": {},
   "outputs": [
    {
     "data": {
      "text/plain": [
       "5"
      ]
     },
     "execution_count": 20,
     "metadata": {},
     "output_type": "execute_result"
    }
   ],
   "source": [
    "len(myName) # tedad harf ha "
   ]
  },
  {
   "cell_type": "code",
   "execution_count": 21,
   "id": "5ba3d027-df50-4b8c-8a4f-302c565a8585",
   "metadata": {},
   "outputs": [
    {
     "name": "stdout",
     "output_type": "stream",
     "text": [
      "H\n"
     ]
    }
   ],
   "source": [
    "print(myName[0]) #peida kardan avalin harf esm "
   ]
  },
  {
   "cell_type": "code",
   "execution_count": 22,
   "id": "2fcdfdc9-aaad-4afd-b9a3-de6635ef3ca3",
   "metadata": {},
   "outputs": [
    {
     "name": "stdout",
     "output_type": "stream",
     "text": [
      "M\n"
     ]
    }
   ],
   "source": [
    "print(myName[4])"
   ]
  },
  {
   "cell_type": "code",
   "execution_count": 23,
   "id": "19997d1e-6521-4f8a-8990-a412ddcbd872",
   "metadata": {},
   "outputs": [
    {
     "data": {
      "text/plain": [
       "'M'"
      ]
     },
     "execution_count": 23,
     "metadata": {},
     "output_type": "execute_result"
    }
   ],
   "source": [
    "myName[len(myName)-1] #baraie peida kardan akharin harf esm ba tabee len"
   ]
  },
  {
   "cell_type": "code",
   "execution_count": 24,
   "id": "0caffa85-4992-4469-a747-29b4664f2367",
   "metadata": {},
   "outputs": [
    {
     "data": {
      "text/plain": [
       "'M'"
      ]
     },
     "execution_count": 24,
     "metadata": {},
     "output_type": "execute_result"
    }
   ],
   "source": [
    "myName[-1] #baraie peida kardan akharin harf esm"
   ]
  },
  {
   "cell_type": "code",
   "execution_count": 25,
   "id": "eb45ac0f-4957-4a2b-b031-4f4dc928af78",
   "metadata": {},
   "outputs": [
    {
     "data": {
      "text/plain": [
       "'M'"
      ]
     },
     "execution_count": 25,
     "metadata": {},
     "output_type": "execute_result"
    }
   ],
   "source": [
    "myName[4] # adad 4 string index mast"
   ]
  },
  {
   "cell_type": "code",
   "execution_count": 26,
   "id": "2ea65d5e-d392-41be-9c08-6914ef72db27",
   "metadata": {},
   "outputs": [
    {
     "data": {
      "text/plain": [
       "'ESA'"
      ]
     },
     "execution_count": 26,
     "metadata": {},
     "output_type": "execute_result"
    }
   ],
   "source": [
    "myName[1:4]"
   ]
  },
  {
   "cell_type": "code",
   "execution_count": 27,
   "id": "2983a7c3-379a-453b-94fc-08c9885324ec",
   "metadata": {},
   "outputs": [
    {
     "data": {
      "text/plain": [
       "'ES'"
      ]
     },
     "execution_count": 27,
     "metadata": {},
     "output_type": "execute_result"
    }
   ],
   "source": [
    "myName[1:3]"
   ]
  },
  {
   "cell_type": "code",
   "execution_count": 28,
   "id": "077e09dc-9125-4427-92a9-99d5129d8316",
   "metadata": {},
   "outputs": [
    {
     "data": {
      "text/plain": [
       "'HESAMFATEMIZADEH'"
      ]
     },
     "execution_count": 28,
     "metadata": {},
     "output_type": "execute_result"
    }
   ],
   "source": [
    "myFamilly = 'FATEMIZADEH'\n",
    "myFullName = myName + myFamilly\n",
    "myFullName"
   ]
  },
  {
   "cell_type": "markdown",
   "id": "9b8b5d14-9371-41b7-be99-bf1f9cad862e",
   "metadata": {},
   "source": [
    "#### . multiplication\n"
   ]
  },
  {
   "cell_type": "code",
   "execution_count": 30,
   "id": "f6a7e511-8763-4088-a982-ec1d687d89cf",
   "metadata": {},
   "outputs": [
    {
     "data": {
      "text/plain": [
       "'HESAMHESAMHESAMHESAMHESAMHESAMHESAM'"
      ]
     },
     "execution_count": 30,
     "metadata": {},
     "output_type": "execute_result"
    }
   ],
   "source": [
    "myName * 7"
   ]
  },
  {
   "cell_type": "markdown",
   "id": "065144ca-ab61-401e-b597-f9ca3c272798",
   "metadata": {},
   "source": [
    "#### . standard name of a and int vs string"
   ]
  },
  {
   "cell_type": "code",
   "execution_count": 32,
   "id": "ba5d9739-8527-4ba7-8d37-6072b637b80a",
   "metadata": {},
   "outputs": [
    {
     "name": "stdout",
     "output_type": "stream",
     "text": [
      "2\n",
      "11\n"
     ]
    }
   ],
   "source": [
    "tempInt = 1\n",
    "tempStr = '1'\n",
    "print(tempInt*2)\n",
    "print(tempStr*2)\n",
    "temp = \"\"\"ABCDEFGH\n",
    "IJKL\n",
    "MNOP\n",
    "QRSTUV\n",
    "WXYZ\"\"\""
   ]
  },
  {
   "cell_type": "code",
   "execution_count": 33,
   "id": "eb5ccecf-505b-405d-bcbf-223f407b481f",
   "metadata": {},
   "outputs": [
    {
     "data": {
      "text/plain": [
       "1"
      ]
     },
     "execution_count": 33,
     "metadata": {},
     "output_type": "execute_result"
    }
   ],
   "source": [
    "myName.find('ES')"
   ]
  },
  {
   "cell_type": "markdown",
   "id": "6d17d3b4-b6aa-4863-9c2c-9e9ef18fdff6",
   "metadata": {},
   "source": [
    "#### . find func"
   ]
  },
  {
   "cell_type": "code",
   "execution_count": 35,
   "id": "872a222c-0e5a-4cc8-94c3-c1d04fe803ea",
   "metadata": {},
   "outputs": [
    {
     "data": {
      "text/plain": [
       "1"
      ]
     },
     "execution_count": 35,
     "metadata": {},
     "output_type": "execute_result"
    }
   ],
   "source": [
    "tempstr = \"bye\"\n",
    "tempstr.find(\"y\") #avalin jaei ke y dide mishe ro mige"
   ]
  },
  {
   "cell_type": "markdown",
   "id": "86ae76ab-d1ae-44a2-b349-05ab4ce73631",
   "metadata": {},
   "source": [
    "# **`session 6`**"
   ]
  },
  {
   "cell_type": "code",
   "execution_count": 37,
   "id": "e0ebbf8c-0c4e-4109-a241-32ba4b6fe33d",
   "metadata": {},
   "outputs": [
    {
     "data": {
      "text/plain": [
       "'H'"
      ]
     },
     "execution_count": 37,
     "metadata": {},
     "output_type": "execute_result"
    }
   ],
   "source": [
    "myFullName[0]"
   ]
  },
  {
   "cell_type": "code",
   "execution_count": 38,
   "id": "2286e136-8a3e-4391-9338-274f68de9293",
   "metadata": {},
   "outputs": [
    {
     "data": {
      "text/plain": [
       "'HOSSEINFATEMIZADEH'"
      ]
     },
     "execution_count": 38,
     "metadata": {},
     "output_type": "execute_result"
    }
   ],
   "source": [
    "brother = \"HOSSEIN\"\n",
    "brother\n",
    "\n",
    "BrotherFullName = myFullName.replace(\"HESAM\" , brother)\n",
    "BrotherFullName"
   ]
  },
  {
   "cell_type": "markdown",
   "id": "c9efd078-0a74-4fab-aa41-393b3df4ad4e",
   "metadata": {},
   "source": [
    "#### . replace function"
   ]
  },
  {
   "cell_type": "code",
   "execution_count": 40,
   "id": "39a17fd8-bc0a-45fd-95bd-80cd2a1a8f4e",
   "metadata": {},
   "outputs": [
    {
     "data": {
      "text/plain": [
       "'HOSSEIN'"
      ]
     },
     "execution_count": 40,
     "metadata": {},
     "output_type": "execute_result"
    }
   ],
   "source": [
    "myDoubleFullName = myFullName*2\n",
    "myChangedDoubleFullName = myDoubleFullName.replace(myDoubleFullName , brother)\n",
    "myChangedDoubleFullName"
   ]
  },
  {
   "cell_type": "markdown",
   "id": "6b86d084-31b4-4a1c-807c-e26dcecc2a9d",
   "metadata": {},
   "source": [
    "#### . lowercase"
   ]
  },
  {
   "cell_type": "code",
   "execution_count": 42,
   "id": "4079c132-2775-4b40-be42-88054d199f59",
   "metadata": {},
   "outputs": [
    {
     "data": {
      "text/plain": [
       "'hesamfatemizadeh'"
      ]
     },
     "execution_count": 42,
     "metadata": {},
     "output_type": "execute_result"
    }
   ],
   "source": [
    "myFullName.lower()"
   ]
  },
  {
   "cell_type": "markdown",
   "id": "bf324bfe-937e-4f55-9504-86b118221958",
   "metadata": {},
   "source": [
    "#### . uppercase"
   ]
  },
  {
   "cell_type": "code",
   "execution_count": 44,
   "id": "9fb69a9f-1262-4282-a549-25a8faaaeb58",
   "metadata": {},
   "outputs": [
    {
     "data": {
      "text/plain": [
       "'HESAMFATEMIZADEH'"
      ]
     },
     "execution_count": 44,
     "metadata": {},
     "output_type": "execute_result"
    }
   ],
   "source": [
    "myFullName.upper()"
   ]
  },
  {
   "cell_type": "code",
   "execution_count": 45,
   "id": "2dc34f20-dd40-4edf-b2b7-be08962874fa",
   "metadata": {},
   "outputs": [
    {
     "data": {
      "text/plain": [
       "True"
      ]
     },
     "execution_count": 45,
     "metadata": {},
     "output_type": "execute_result"
    }
   ],
   "source": [
    "myName.isalpha()"
   ]
  },
  {
   "cell_type": "code",
   "execution_count": 46,
   "id": "07515c9e-22ff-42da-848e-dc1c6ce47345",
   "metadata": {},
   "outputs": [],
   "source": [
    "myTeachersName = \"amir Hoshang Hossein Pour Dehkordi\""
   ]
  },
  {
   "cell_type": "code",
   "execution_count": 47,
   "id": "a3bd197d-375c-4dd2-9841-f2ad1553e5e8",
   "metadata": {},
   "outputs": [
    {
     "data": {
      "text/plain": [
       "['17:48:33']"
      ]
     },
     "execution_count": 47,
     "metadata": {},
     "output_type": "execute_result"
    }
   ],
   "source": [
    "time = '17:48:33'\n",
    "splitedTime = time.split(',')\n",
    "splitedTime"
   ]
  },
  {
   "cell_type": "code",
   "execution_count": 48,
   "id": "a7a98e73-051c-460d-b795-1d02e61e3f05",
   "metadata": {},
   "outputs": [
    {
     "data": {
      "text/plain": [
       "['__add__',\n",
       " '__class__',\n",
       " '__contains__',\n",
       " '__delattr__',\n",
       " '__dir__',\n",
       " '__doc__',\n",
       " '__eq__',\n",
       " '__format__',\n",
       " '__ge__',\n",
       " '__getattribute__',\n",
       " '__getitem__',\n",
       " '__getnewargs__',\n",
       " '__getstate__',\n",
       " '__gt__',\n",
       " '__hash__',\n",
       " '__init__',\n",
       " '__init_subclass__',\n",
       " '__iter__',\n",
       " '__le__',\n",
       " '__len__',\n",
       " '__lt__',\n",
       " '__mod__',\n",
       " '__mul__',\n",
       " '__ne__',\n",
       " '__new__',\n",
       " '__reduce__',\n",
       " '__reduce_ex__',\n",
       " '__repr__',\n",
       " '__rmod__',\n",
       " '__rmul__',\n",
       " '__setattr__',\n",
       " '__sizeof__',\n",
       " '__str__',\n",
       " '__subclasshook__',\n",
       " 'capitalize',\n",
       " 'casefold',\n",
       " 'center',\n",
       " 'count',\n",
       " 'encode',\n",
       " 'endswith',\n",
       " 'expandtabs',\n",
       " 'find',\n",
       " 'format',\n",
       " 'format_map',\n",
       " 'index',\n",
       " 'isalnum',\n",
       " 'isalpha',\n",
       " 'isascii',\n",
       " 'isdecimal',\n",
       " 'isdigit',\n",
       " 'isidentifier',\n",
       " 'islower',\n",
       " 'isnumeric',\n",
       " 'isprintable',\n",
       " 'isspace',\n",
       " 'istitle',\n",
       " 'isupper',\n",
       " 'join',\n",
       " 'ljust',\n",
       " 'lower',\n",
       " 'lstrip',\n",
       " 'maketrans',\n",
       " 'partition',\n",
       " 'removeprefix',\n",
       " 'removesuffix',\n",
       " 'replace',\n",
       " 'rfind',\n",
       " 'rindex',\n",
       " 'rjust',\n",
       " 'rpartition',\n",
       " 'rsplit',\n",
       " 'rstrip',\n",
       " 'split',\n",
       " 'splitlines',\n",
       " 'startswith',\n",
       " 'strip',\n",
       " 'swapcase',\n",
       " 'title',\n",
       " 'translate',\n",
       " 'upper',\n",
       " 'zfill']"
      ]
     },
     "execution_count": 48,
     "metadata": {},
     "output_type": "execute_result"
    }
   ],
   "source": [
    "dir(myName)"
   ]
  },
  {
   "cell_type": "code",
   "execution_count": 49,
   "id": "67387187-dd04-40fe-8712-5973aa3ba70b",
   "metadata": {},
   "outputs": [
    {
     "name": "stdout",
     "output_type": "stream",
     "text": [
      "Help on built-in function upper:\n",
      "\n",
      "upper() method of builtins.str instance\n",
      "    Return a copy of the string converted to uppercase.\n",
      "\n"
     ]
    }
   ],
   "source": [
    "help(myFullName.upper)"
   ]
  },
  {
   "cell_type": "code",
   "execution_count": 50,
   "id": "acc641f9-35dc-490b-9c82-3e43fd7b98db",
   "metadata": {},
   "outputs": [
    {
     "name": "stdout",
     "output_type": "stream",
     "text": [
      "HESAM\n",
      "FATEMI\n",
      "ZADEH\n"
     ]
    }
   ],
   "source": [
    "tempName= 'HESAM\\nFATEMI\\nZADEH'\n",
    "print(tempName)"
   ]
  },
  {
   "cell_type": "code",
   "execution_count": 51,
   "id": "edb2716c-dd62-4964-af59-0896c36b14ad",
   "metadata": {},
   "outputs": [
    {
     "name": "stdout",
     "output_type": "stream",
     "text": [
      "\"\n"
     ]
    }
   ],
   "source": [
    "print(\"\\\"\")"
   ]
  },
  {
   "cell_type": "markdown",
   "id": "11a693b8-c7df-49f8-a794-5aa823ba6290",
   "metadata": {},
   "source": [
    "# **`session 7`**"
   ]
  },
  {
   "cell_type": "code",
   "execution_count": 53,
   "id": "cabb3852-ce98-41fb-88f2-5785d239e255",
   "metadata": {},
   "outputs": [
    {
     "name": "stdout",
     "output_type": "stream",
     "text": [
      "salam\n"
     ]
    }
   ],
   "source": [
    "if True:\n",
    "    print(\"salam\")"
   ]
  },
  {
   "cell_type": "code",
   "execution_count": 54,
   "id": "a7b0a757-3216-4c31-b2ad-48bae673d1e4",
   "metadata": {},
   "outputs": [],
   "source": [
    "if False:\n",
    "    print(\"salam\")"
   ]
  },
  {
   "cell_type": "code",
   "execution_count": 55,
   "id": "cf9413c6-6d6f-4b84-a3ec-21b9f04c42f1",
   "metadata": {},
   "outputs": [
    {
     "name": "stdout",
     "output_type": "stream",
     "text": [
      "salam\n"
     ]
    }
   ],
   "source": [
    "if 3:\n",
    "    print(\"salam\")"
   ]
  },
  {
   "cell_type": "code",
   "execution_count": 56,
   "id": "251df1b4-93d8-40e5-b97e-ee21729198f4",
   "metadata": {},
   "outputs": [],
   "source": [
    "if 0:\n",
    "    print(\"salam\")"
   ]
  },
  {
   "cell_type": "code",
   "execution_count": 57,
   "id": "031e3994-c995-4bf7-8427-324673404d60",
   "metadata": {},
   "outputs": [
    {
     "name": "stdout",
     "output_type": "stream",
     "text": [
      "salam\n",
      "amir\n"
     ]
    }
   ],
   "source": [
    "if \"AMIR\":\n",
    "    print(\"salam\")\n",
    "    print(\"amir\")"
   ]
  },
  {
   "cell_type": "code",
   "execution_count": 58,
   "id": "f73569b6-848e-4814-b861-5c53e47d1fc3",
   "metadata": {},
   "outputs": [],
   "source": [
    "if \"\":\n",
    "    print(\"salam\")\n",
    "    "
   ]
  },
  {
   "cell_type": "code",
   "execution_count": 59,
   "id": "099d3f0a-1aba-40e9-bf12-45a9274064b9",
   "metadata": {},
   "outputs": [
    {
     "name": "stdout",
     "output_type": "stream",
     "text": [
      "short name\n"
     ]
    }
   ],
   "source": [
    "if len(myName)>=7 :\n",
    "    print (\"long name\")\n",
    "else: \n",
    "    print (\"short name\")"
   ]
  },
  {
   "cell_type": "code",
   "execution_count": 60,
   "id": "17b431c8-d885-45a8-a9dd-0f7acae47947",
   "metadata": {},
   "outputs": [
    {
     "name": "stdout",
     "output_type": "stream",
     "text": [
      "long name\n"
     ]
    }
   ],
   "source": [
    "if len(myName)>=5 :\n",
    "    print (\"long name\")\n",
    "else: \n",
    "    print (\"short name\")"
   ]
  },
  {
   "cell_type": "code",
   "execution_count": 61,
   "id": "77c085d7-2759-4f48-8adf-b002d86498eb",
   "metadata": {},
   "outputs": [],
   "source": [
    "inputName = \"ava\""
   ]
  },
  {
   "cell_type": "code",
   "execution_count": 62,
   "id": "6c61d113-6871-465a-bbfd-8ea5ee798c88",
   "metadata": {},
   "outputs": [
    {
     "name": "stdout",
     "output_type": "stream",
     "text": [
      "kam\n"
     ]
    }
   ],
   "source": [
    "if len(inputName)>=5:\n",
    "    print (\"ziad\")\n",
    "elif 3<len(inputName)<5:\n",
    "    print (\"motevaset\")\n",
    "else:\n",
    "    print(\"kam\")\n"
   ]
  },
  {
   "cell_type": "code",
   "execution_count": 63,
   "id": "cce48bba-a36b-4be3-b7d2-d8b265d773a6",
   "metadata": {},
   "outputs": [],
   "source": [
    "inputAge = 27"
   ]
  },
  {
   "cell_type": "code",
   "execution_count": 64,
   "id": "f570f368-3d52-4f7a-a917-b1994cf1ae09",
   "metadata": {},
   "outputs": [
    {
     "name": "stdout",
     "output_type": "stream",
     "text": [
      "fard balaie 20\n"
     ]
    }
   ],
   "source": [
    "\n",
    "if inputAge > 20:\n",
    "    if inputAge % 2 == 0:\n",
    "        print(\"zoj balaie 20\")\n",
    "    if inputAge : \n",
    "        print(\"fard balaie 20\")\n",
    "if inputAge <= 20:\n",
    "    if inputAge %2 == 0:\n",
    "        print(\"zoj paein 20\")\n",
    "    if inputAge :\n",
    "        print (\"fard paein 20\")\n",
    "        "
   ]
  },
  {
   "cell_type": "markdown",
   "id": "e84e975d-f05b-494d-9da2-7010fcec786a",
   "metadata": {},
   "source": [
    "### **`.halghe while.`**"
   ]
  },
  {
   "cell_type": "code",
   "execution_count": 66,
   "id": "9f9e8b65-709c-4f5a-8827-5fafdd700fc0",
   "metadata": {},
   "outputs": [
    {
     "name": "stdout",
     "output_type": "stream",
     "text": [
      "8\n",
      "7\n",
      "6\n",
      "5\n",
      "4\n",
      "3\n",
      "2\n",
      "1\n"
     ]
    }
   ],
   "source": [
    "tempInt = 8\n",
    "while tempInt > 0 :\n",
    "    print(tempInt)\n",
    "    tempInt -= 1 "
   ]
  },
  {
   "cell_type": "markdown",
   "id": "e6329924-eec3-440d-b743-892ea451454e",
   "metadata": {},
   "source": [
    "# **`session 8`**"
   ]
  },
  {
   "cell_type": "markdown",
   "id": "a778fe64-5e5c-4660-8cdd-fb452c897768",
   "metadata": {},
   "source": [
    "## `.while`"
   ]
  },
  {
   "cell_type": "markdown",
   "id": "38fd91d0-a44f-4d26-93bd-2532ff67b621",
   "metadata": {},
   "source": [
    "### **check p prime or not**?"
   ]
  },
  {
   "cell_type": "code",
   "execution_count": 70,
   "id": "990a87a2-1c35-4014-bceb-a32f089051a8",
   "metadata": {},
   "outputs": [
    {
     "name": "stdout",
     "output_type": "stream",
     "text": [
      "is prime\n"
     ]
    }
   ],
   "source": [
    "p=19\n",
    "tempP = p-1 \n",
    "adadAvalAst = True\n",
    "while tempP>=2:\n",
    "    if p % tempP ==0:\n",
    "        adadAvalAst = False\n",
    "        break\n",
    "    tempP -= 1\n",
    "if adadAvalAst :\n",
    "    print (\"is prime\")\n",
    "else:\n",
    "    print (\"is not prime\")"
   ]
  },
  {
   "cell_type": "markdown",
   "id": "a702a912-4dc9-4516-9f68-053042f384a2",
   "metadata": {},
   "source": [
    "# **`session 9`** "
   ]
  },
  {
   "cell_type": "markdown",
   "id": "377f174c-183e-4de4-a4f0-73bad3f6ab18",
   "metadata": {},
   "source": [
    "### for loop "
   ]
  },
  {
   "cell_type": "code",
   "execution_count": 73,
   "id": "308aa468-dcf6-4449-b4d5-908f1efaab12",
   "metadata": {},
   "outputs": [
    {
     "name": "stdout",
     "output_type": "stream",
     "text": [
      "0\n",
      "1\n",
      "2\n",
      "3\n",
      "4\n",
      "5\n",
      "6\n",
      "7\n",
      "8\n",
      "9\n"
     ]
    }
   ],
   "source": [
    "for i in range (10):\n",
    "    print(i)\n",
    "    "
   ]
  },
  {
   "cell_type": "code",
   "execution_count": 74,
   "id": "d6a874ca-a04a-47b0-94a1-e734bd7988a5",
   "metadata": {},
   "outputs": [
    {
     "name": "stdout",
     "output_type": "stream",
     "text": [
      "10\n"
     ]
    }
   ],
   "source": [
    "sum = 0\n",
    "for i in range (5):\n",
    "    sum+= i \n",
    "print (sum)"
   ]
  },
  {
   "cell_type": "markdown",
   "id": "e6d3cb1a-cc6a-4862-affe-9d32390d1848",
   "metadata": {},
   "source": [
    "\" in code be che sorat kar mikonad?\" "
   ]
  },
  {
   "cell_type": "code",
   "execution_count": 76,
   "id": "dc53af1f-4e31-43b3-99ae-6935c87773fd",
   "metadata": {},
   "outputs": [
    {
     "name": "stdout",
     "output_type": "stream",
     "text": [
      "i =0sum0\n",
      "i =1sum1\n",
      "i =2sum3\n",
      "i =3sum6\n",
      "i =4sum10\n",
      "END\n"
     ]
    }
   ],
   "source": [
    "sum = 0 \n",
    "for i in range (5):\n",
    "    sum += i \n",
    "    print (\"i =\"+str(i)+\"sum\"+str(sum))\n",
    "print(\"END\")"
   ]
  },
  {
   "cell_type": "markdown",
   "id": "3720eda2-7dd8-438d-9a60-83e73cdb7e02",
   "metadata": {},
   "source": [
    "### fibonacci mesal"
   ]
  },
  {
   "cell_type": "code",
   "execution_count": 78,
   "id": "91ffa63c-e11c-48da-8123-8ec76712af7d",
   "metadata": {},
   "outputs": [
    {
     "name": "stdout",
     "output_type": "stream",
     "text": [
      "3628800\n"
     ]
    }
   ],
   "source": [
    "n=10 \n",
    "fact = 1\n",
    "for i in range (n):\n",
    "    fact = fact * (i+1)\n",
    "print (fact)  "
   ]
  },
  {
   "cell_type": "markdown",
   "id": "07bad7a3-29ff-4a74-b140-260b462869c6",
   "metadata": {},
   "source": [
    "### for (bazi hop)"
   ]
  },
  {
   "cell_type": "code",
   "execution_count": 80,
   "id": "4bdcb51d-eef4-4616-b157-e8c1cb8ea2dc",
   "metadata": {},
   "outputs": [
    {
     "name": "stdout",
     "output_type": "stream",
     "text": [
      "1\n",
      "2\n",
      "HOP\n",
      "4\n",
      "5\n",
      "HOP\n",
      "7\n",
      "8\n",
      "HOP\n",
      "10\n",
      "11\n",
      "HOP\n",
      "13\n",
      "14\n",
      "HOP\n",
      "16\n",
      "17\n",
      "HOP\n",
      "19\n",
      "20\n",
      "HOP\n",
      "22\n",
      "23\n",
      "HOP\n",
      "25\n",
      "26\n",
      "HOP\n",
      "28\n",
      "29\n"
     ]
    }
   ],
   "source": [
    "for i in range (1,30):\n",
    "    if i % 3 == 0:\n",
    "        print(\"HOP\")\n",
    "    else:\n",
    "        print(i)"
   ]
  },
  {
   "cell_type": "markdown",
   "id": "fc10ad1e-8125-49ac-bb99-2b487a370154",
   "metadata": {},
   "source": [
    "# **`session 10`** "
   ]
  },
  {
   "cell_type": "markdown",
   "id": "f02c56b2-69b3-4cdb-b0e5-91e1c2cf4fd5",
   "metadata": {},
   "source": [
    "\"List\""
   ]
  },
  {
   "cell_type": "code",
   "execution_count": 83,
   "id": "e608b06e-7e1e-4ae5-8dbf-adaf87b0d9e6",
   "metadata": {},
   "outputs": [
    {
     "data": {
      "text/plain": [
       "3"
      ]
     },
     "execution_count": 83,
     "metadata": {},
     "output_type": "execute_result"
    }
   ],
   "source": [
    "tempList = [21, \"HESAM\", 3.14]\n",
    "len (tempList)"
   ]
  },
  {
   "cell_type": "code",
   "execution_count": 84,
   "id": "745604dd-e674-4b94-8700-f646aac8c637",
   "metadata": {},
   "outputs": [
    {
     "data": {
      "text/plain": [
       "'HESAM'"
      ]
     },
     "execution_count": 84,
     "metadata": {},
     "output_type": "execute_result"
    }
   ],
   "source": [
    "tempList[1]"
   ]
  },
  {
   "cell_type": "code",
   "execution_count": 85,
   "id": "97761423-01e2-4199-bf00-62e7b8dacde9",
   "metadata": {},
   "outputs": [
    {
     "data": {
      "text/plain": [
       "5"
      ]
     },
     "execution_count": 85,
     "metadata": {},
     "output_type": "execute_result"
    }
   ],
   "source": [
    "len (tempList[1])"
   ]
  },
  {
   "cell_type": "code",
   "execution_count": 86,
   "id": "c98666b2-9201-4154-b438-5a3a17aa9574",
   "metadata": {},
   "outputs": [
    {
     "data": {
      "text/plain": [
       "'A'"
      ]
     },
     "execution_count": 86,
     "metadata": {},
     "output_type": "execute_result"
    }
   ],
   "source": [
    "tempList[1][3]"
   ]
  },
  {
   "cell_type": "markdown",
   "id": "18bc1af0-cd45-4679-a379-dffa474e63c6",
   "metadata": {},
   "source": [
    "#### . changing list to string"
   ]
  },
  {
   "cell_type": "code",
   "execution_count": 88,
   "id": "5f6fa139-3e8e-4c9f-8d42-0cb136ce6bf2",
   "metadata": {},
   "outputs": [
    {
     "data": {
      "text/plain": [
       "\"[21, 'HESAM', 3.14]\""
      ]
     },
     "execution_count": 88,
     "metadata": {},
     "output_type": "execute_result"
    }
   ],
   "source": [
    "str (tempList)"
   ]
  },
  {
   "cell_type": "markdown",
   "id": "79bf4e59-47fa-4745-b49b-f6ef42fb59fe",
   "metadata": {},
   "source": [
    "# ."
   ]
  },
  {
   "cell_type": "code",
   "execution_count": 90,
   "id": "d19ad659-3abc-4615-94c8-c2315800bae3",
   "metadata": {},
   "outputs": [
    {
     "name": "stdout",
     "output_type": "stream",
     "text": [
      "3\n",
      "2\n"
     ]
    }
   ],
   "source": [
    "pi = 3.14 \n",
    "print(int(pi))\n",
    "e = 2.7\n",
    "print (int(e))"
   ]
  },
  {
   "cell_type": "markdown",
   "id": "48bf0953-4709-4b37-a17a-cb5ddfc2fe45",
   "metadata": {},
   "source": [
    "#### . part of the list "
   ]
  },
  {
   "cell_type": "code",
   "execution_count": 92,
   "id": "e0f7bcea-bc81-43ef-9dc0-a5d1103ef007",
   "metadata": {},
   "outputs": [
    {
     "data": {
      "text/plain": [
       "[21, 'HESAM']"
      ]
     },
     "execution_count": 92,
     "metadata": {},
     "output_type": "execute_result"
    }
   ],
   "source": [
    "tempList[:-1]"
   ]
  },
  {
   "cell_type": "code",
   "execution_count": 93,
   "id": "7085a216-9554-4838-ae2a-5b56efc496e0",
   "metadata": {},
   "outputs": [
    {
     "data": {
      "text/plain": [
       "['HESAM', 3.14]"
      ]
     },
     "execution_count": 93,
     "metadata": {},
     "output_type": "execute_result"
    }
   ],
   "source": [
    "tempList[1:]"
   ]
  },
  {
   "cell_type": "markdown",
   "id": "565bc487-21b6-4577-b8af-ea358bf6934b",
   "metadata": {},
   "source": [
    "#### . adding two lists"
   ]
  },
  {
   "cell_type": "code",
   "execution_count": 95,
   "id": "f032e582-f48a-4af2-b73b-b07842903ff1",
   "metadata": {},
   "outputs": [
    {
     "name": "stdout",
     "output_type": "stream",
     "text": [
      "[21, 'HESAM', 3.14, 2, 'programming', 2.7]\n"
     ]
    }
   ],
   "source": [
    "tempList = tempList + [2,'programming',2.7]\n",
    "print (tempList)"
   ]
  },
  {
   "cell_type": "markdown",
   "id": "0deedb82-563d-402a-a0eb-3c372eaebf8d",
   "metadata": {},
   "source": [
    "#### . adding a single name "
   ]
  },
  {
   "cell_type": "code",
   "execution_count": 97,
   "id": "c9803532-d415-49aa-aa8c-973107d82f56",
   "metadata": {},
   "outputs": [
    {
     "name": "stdout",
     "output_type": "stream",
     "text": [
      "[21, 'HESAM', 3.14, 2, 'programming', 2.7, 'FARID']\n"
     ]
    }
   ],
   "source": [
    "tempList += ['FARID']\n",
    "print (tempList)"
   ]
  },
  {
   "cell_type": "code",
   "execution_count": 98,
   "id": "2c0505db-78bb-4481-8204-918909d3e9b3",
   "metadata": {},
   "outputs": [
    {
     "data": {
      "text/plain": [
       "[21, 'HESAM', 3.14, 2, 'programming', 2.7, 'FARID', 'ABADAN']"
      ]
     },
     "execution_count": 98,
     "metadata": {},
     "output_type": "execute_result"
    }
   ],
   "source": [
    "tempList.append('ABADAN')\n",
    "tempList"
   ]
  },
  {
   "cell_type": "markdown",
   "id": "8ebb6153-ec07-4ba5-af84-23ec5a72db5e",
   "metadata": {},
   "source": [
    "#### . other functions to use with list\n"
   ]
  },
  {
   "cell_type": "code",
   "execution_count": 100,
   "id": "5547dfba-0ef9-480c-b788-7b734629bdf8",
   "metadata": {},
   "outputs": [
    {
     "data": {
      "text/plain": [
       "['__add__',\n",
       " '__class__',\n",
       " '__class_getitem__',\n",
       " '__contains__',\n",
       " '__delattr__',\n",
       " '__delitem__',\n",
       " '__dir__',\n",
       " '__doc__',\n",
       " '__eq__',\n",
       " '__format__',\n",
       " '__ge__',\n",
       " '__getattribute__',\n",
       " '__getitem__',\n",
       " '__getstate__',\n",
       " '__gt__',\n",
       " '__hash__',\n",
       " '__iadd__',\n",
       " '__imul__',\n",
       " '__init__',\n",
       " '__init_subclass__',\n",
       " '__iter__',\n",
       " '__le__',\n",
       " '__len__',\n",
       " '__lt__',\n",
       " '__mul__',\n",
       " '__ne__',\n",
       " '__new__',\n",
       " '__reduce__',\n",
       " '__reduce_ex__',\n",
       " '__repr__',\n",
       " '__reversed__',\n",
       " '__rmul__',\n",
       " '__setattr__',\n",
       " '__setitem__',\n",
       " '__sizeof__',\n",
       " '__str__',\n",
       " '__subclasshook__',\n",
       " 'append',\n",
       " 'clear',\n",
       " 'copy',\n",
       " 'count',\n",
       " 'extend',\n",
       " 'index',\n",
       " 'insert',\n",
       " 'pop',\n",
       " 'remove',\n",
       " 'reverse',\n",
       " 'sort']"
      ]
     },
     "execution_count": 100,
     "metadata": {},
     "output_type": "execute_result"
    }
   ],
   "source": [
    "dir(tempList)"
   ]
  },
  {
   "cell_type": "code",
   "execution_count": 101,
   "id": "6d4cb2f5-2870-4c95-b4a2-d916f7fc3e73",
   "metadata": {},
   "outputs": [
    {
     "data": {
      "text/plain": [
       "[0.3, 0.7, 1, 1.5, 2.8, 3.5]"
      ]
     },
     "execution_count": 101,
     "metadata": {},
     "output_type": "execute_result"
    }
   ],
   "source": [
    "randNum = [1,2.8,3.5,0.3,0.7,1.5]\n",
    "randNum.sort()\n",
    "randNum"
   ]
  },
  {
   "cell_type": "code",
   "execution_count": 102,
   "id": "e82a3620-6e20-41d8-8901-9bfab81bd0de",
   "metadata": {},
   "outputs": [
    {
     "data": {
      "text/plain": [
       "['2', '70', 'A', 'B', 'V', 'b', 's']"
      ]
     },
     "execution_count": 102,
     "metadata": {},
     "output_type": "execute_result"
    }
   ],
   "source": [
    "list1 = ['s','2','70','b','A','B','V']\n",
    "list1.sort()\n",
    "list1"
   ]
  },
  {
   "cell_type": "markdown",
   "id": "f83b702b-10b7-46dc-ae0b-2349302dc2eb",
   "metadata": {},
   "source": [
    "\n",
    "#### . `nesting`"
   ]
  },
  {
   "cell_type": "code",
   "execution_count": 104,
   "id": "3f7ea381-7085-45ec-b4c1-c1b1a964fa8e",
   "metadata": {},
   "outputs": [
    {
     "data": {
      "text/plain": [
       "[4, 5, 6]"
      ]
     },
     "execution_count": 104,
     "metadata": {},
     "output_type": "execute_result"
    }
   ],
   "source": [
    "nestedArray = [[1,2,3],[4,5,6],[7,8,9]]\n",
    "nestedArray [1]"
   ]
  },
  {
   "cell_type": "code",
   "execution_count": 105,
   "id": "b7c1f0bb-0a41-47ae-8c95-80c9274e9919",
   "metadata": {},
   "outputs": [
    {
     "data": {
      "text/plain": [
       "6"
      ]
     },
     "execution_count": 105,
     "metadata": {},
     "output_type": "execute_result"
    }
   ],
   "source": [
    "nestedArray [1][2]"
   ]
  },
  {
   "cell_type": "markdown",
   "id": "56df7152-d0c0-4b95-9e7f-48c8a682bb6d",
   "metadata": {},
   "source": [
    "\n",
    "\n",
    "\n",
    "\n",
    "#### . `for & list` "
   ]
  },
  {
   "cell_type": "code",
   "execution_count": 107,
   "id": "b0329c29-789e-48f3-823b-5ee2356b553e",
   "metadata": {},
   "outputs": [
    {
     "name": "stdout",
     "output_type": "stream",
     "text": [
      "20\n",
      "9\n",
      "13\n",
      "17\n",
      "15\n"
     ]
    }
   ],
   "source": [
    "myScores = [20,9,13,17,15]\n",
    "for i in myScores:\n",
    "    print(i)"
   ]
  },
  {
   "cell_type": "markdown",
   "id": "346e7c94-a865-4154-886e-8b2522e736f9",
   "metadata": {},
   "source": [
    "# **`session 11`**"
   ]
  },
  {
   "cell_type": "code",
   "execution_count": 109,
   "id": "73d5bf82-8ca8-46de-8753-ccca4165cffd",
   "metadata": {},
   "outputs": [
    {
     "name": "stdout",
     "output_type": "stream",
     "text": [
      "Math = 20\n",
      "History = 13\n",
      "Chemistery = 11\n",
      "Physics = 17\n",
      "Ap = 15\n",
      "Bp = 4\n"
     ]
    }
   ],
   "source": [
    "myScores =[20,13,11,17,15,4]\n",
    "myCourses = [\"Math\",\"History\",\"Chemistery\",\"Physics\",\"Ap\",\"Bp\"]\n",
    "for i in range(len(myScores)):\n",
    "    print(myCourses[i] ,\"=\" ,str(myScores[i]))"
   ]
  },
  {
   "cell_type": "markdown",
   "id": "a8b07830-2c92-4060-8a51-b4919d84a0df",
   "metadata": {},
   "source": [
    "## `.dictionary`"
   ]
  },
  {
   "cell_type": "markdown",
   "id": "60b9cad8-ee34-45c6-b37b-99ad92709564",
   "metadata": {},
   "source": [
    "##### .key  :  value."
   ]
  },
  {
   "cell_type": "code",
   "execution_count": 112,
   "id": "0951dd93-124e-49f3-a878-210a70d35823",
   "metadata": {},
   "outputs": [],
   "source": [
    "myProfile = {'name': ' Hesam Fatemizadeh ', 'age' : 21,}"
   ]
  },
  {
   "cell_type": "code",
   "execution_count": 113,
   "id": "78294819-1a3b-45cd-a8a1-3823c4f520e4",
   "metadata": {},
   "outputs": [
    {
     "name": "stdout",
     "output_type": "stream",
     "text": [
      " Hesam Fatemizadeh \n"
     ]
    }
   ],
   "source": [
    "print (myProfile['name'])"
   ]
  },
  {
   "cell_type": "code",
   "execution_count": 114,
   "id": "c4a84c39-a253-4b8e-b712-b93b06c0d5b5",
   "metadata": {},
   "outputs": [
    {
     "name": "stdout",
     "output_type": "stream",
     "text": [
      "21\n"
     ]
    }
   ],
   "source": [
    "print (myProfile['age'])"
   ]
  },
  {
   "cell_type": "code",
   "execution_count": 115,
   "id": "5ccef102-255b-4b2a-9aaa-61aa82731fc4",
   "metadata": {},
   "outputs": [
    {
     "name": "stdout",
     "output_type": "stream",
     "text": [
      "{'firstname': 'Hesam', 'lastName': 'Fatemizadeh'}\n"
     ]
    }
   ],
   "source": [
    "nameDict = {'firstname': 'Hesam' , 'lastName' : 'Fatemizadeh'}\n",
    "print (nameDict)"
   ]
  },
  {
   "cell_type": "code",
   "execution_count": 116,
   "id": "9f4d68d8-d0ca-4265-958f-c28c8dca8b83",
   "metadata": {},
   "outputs": [
    {
     "name": "stdout",
     "output_type": "stream",
     "text": [
      "{'name': {'firstname': 'Hesam', 'lastName': 'Fatemizadeh'}, 'age': 21}\n"
     ]
    }
   ],
   "source": [
    "myProfile = {'name':nameDict, 'age':21}\n",
    "print (myProfile)"
   ]
  },
  {
   "cell_type": "code",
   "execution_count": 117,
   "id": "07b1e7f7-14f7-46f4-99e1-8fbc13c5a2b2",
   "metadata": {},
   "outputs": [
    {
     "name": "stdout",
     "output_type": "stream",
     "text": [
      "Hesam\n"
     ]
    }
   ],
   "source": [
    "print (nameDict['firstname'])"
   ]
  },
  {
   "cell_type": "code",
   "execution_count": 118,
   "id": "95f4c0a6-4cae-42d8-8522-8bb0f69c42a9",
   "metadata": {},
   "outputs": [],
   "source": [
    "cities ={'ABADAN','TEHRAN','KISH'}"
   ]
  },
  {
   "cell_type": "code",
   "execution_count": 119,
   "id": "04bbd8da-9206-4c07-a229-3bda091446a4",
   "metadata": {},
   "outputs": [],
   "source": [
    "myProfile['cities']=cities"
   ]
  },
  {
   "cell_type": "code",
   "execution_count": 120,
   "id": "10d3e9e3-cdc9-41dd-810e-b48e960d665e",
   "metadata": {},
   "outputs": [
    {
     "name": "stdout",
     "output_type": "stream",
     "text": [
      "{'name': {'firstname': 'Hesam', 'lastName': 'Fatemizadeh'}, 'age': 21, 'cities': {'ABADAN', 'KISH', 'TEHRAN'}}\n"
     ]
    }
   ],
   "source": [
    "print(myProfile)"
   ]
  },
  {
   "cell_type": "code",
   "execution_count": 121,
   "id": "278f7bfd-1ade-43cf-ab9d-b32852e246ac",
   "metadata": {},
   "outputs": [
    {
     "name": "stdout",
     "output_type": "stream",
     "text": [
      "3\n"
     ]
    }
   ],
   "source": [
    "print (len(myProfile['cities']))"
   ]
  },
  {
   "cell_type": "code",
   "execution_count": 122,
   "id": "f3ef89ad-cab6-46b6-867d-a73477b3a61d",
   "metadata": {},
   "outputs": [],
   "source": [
    "myProfile['friends'] = [{'firstname' : 'mariam', 'lastname' : 'shojaodin', 'age' : 21, 'id' :'100'},\n",
    "                        {'firstname': 'abbas', 'lastname' : 'ranjbar', 'age':25, 'id': '101'}]"
   ]
  },
  {
   "cell_type": "code",
   "execution_count": 123,
   "id": "8cb03e6c-5b8d-42a9-8a3b-55b3dff0b61b",
   "metadata": {},
   "outputs": [],
   "source": [
    "myProfile['friends'].append({'firstname':'ali', 'lastname': 'niazi', 'age':23 , 'id':102})"
   ]
  },
  {
   "cell_type": "markdown",
   "id": "2eef0e6d-ab4d-4b05-897a-b504d3331b00",
   "metadata": {},
   "source": [
    "# **Q. print the name of the oldest friend and average age of your friends**"
   ]
  },
  {
   "cell_type": "code",
   "execution_count": 125,
   "id": "03b0bdc2-fa5f-415e-b32a-579a941e2fa6",
   "metadata": {},
   "outputs": [],
   "source": [
    "def oldest_average_friend(myDict):\n",
    "    maxAge=0\n",
    "    maxFriends=0\n",
    "    sumAge=0\n",
    "    for i in myDict[\"friends\"]:\n",
    "        sumAge+=i[\"age\"]\n",
    "        if i[\"age\"]> maxAge:\n",
    "            maxAge=i[\"age\"]\n",
    "            maxFriends= i\n",
    "    averageAge = sumAge / len(myDict[\"friends\"] )\n",
    "    return [maxFriends, averageAge]\n",
    "    \n",
    "            "
   ]
  },
  {
   "cell_type": "code",
   "execution_count": 126,
   "id": "9985b788-27b1-4b2b-8278-58b202692a54",
   "metadata": {},
   "outputs": [
    {
     "name": "stdout",
     "output_type": "stream",
     "text": [
      "abbas\n",
      "23.0\n",
      "[{'firstname': 'abbas', 'lastname': 'ranjbar', 'age': 25, 'id': '101'}, 23.0]\n"
     ]
    }
   ],
   "source": [
    "oldestFriend = oldest_average_friend(myProfile)[0]\n",
    "print (oldestFriend[\"firstname\"])\n",
    "averageAgeOfMyFriend = oldest_average_friend(myProfile)[1]\n",
    "print(averageAgeOfMyFriend)\n",
    "outPut= oldest_average_friend(myProfile)\n",
    "print(outPut)"
   ]
  },
  {
   "cell_type": "markdown",
   "id": "5ff99658-09c4-4f85-9a63-e133260dd748",
   "metadata": {},
   "source": [
    "# **`session 12`**  "
   ]
  },
  {
   "cell_type": "markdown",
   "id": "dd4d0ad7-abc0-4d49-925c-c208f14ae144",
   "metadata": {},
   "source": [
    "#### `.edame dictionary`"
   ]
  },
  {
   "cell_type": "code",
   "execution_count": 129,
   "id": "5ce60a7e-7e4d-42ad-b785-ffee3f6f31d0",
   "metadata": {},
   "outputs": [
    {
     "data": {
      "text/plain": [
       "{'firstname': 'ali', 'lastname': 'niazi', 'age': 23, 'id': 102}"
      ]
     },
     "execution_count": 129,
     "metadata": {},
     "output_type": "execute_result"
    }
   ],
   "source": [
    "myProfile['friends'][-1]"
   ]
  },
  {
   "cell_type": "code",
   "execution_count": 130,
   "id": "ad95d101-b295-4524-bcff-5cf12efc1060",
   "metadata": {},
   "outputs": [
    {
     "data": {
      "text/plain": [
       "dict_keys(['name', 'age', 'cities', 'friends'])"
      ]
     },
     "execution_count": 130,
     "metadata": {},
     "output_type": "execute_result"
    }
   ],
   "source": [
    "myProfile.keys()"
   ]
  },
  {
   "cell_type": "code",
   "execution_count": 131,
   "id": "c4df5576-b0df-4de5-bccb-11c3171de022",
   "metadata": {},
   "outputs": [
    {
     "data": {
      "text/plain": [
       "['__add__',\n",
       " '__class__',\n",
       " '__class_getitem__',\n",
       " '__contains__',\n",
       " '__delattr__',\n",
       " '__delitem__',\n",
       " '__dir__',\n",
       " '__doc__',\n",
       " '__eq__',\n",
       " '__format__',\n",
       " '__ge__',\n",
       " '__getattribute__',\n",
       " '__getitem__',\n",
       " '__getstate__',\n",
       " '__gt__',\n",
       " '__hash__',\n",
       " '__iadd__',\n",
       " '__imul__',\n",
       " '__init__',\n",
       " '__init_subclass__',\n",
       " '__iter__',\n",
       " '__le__',\n",
       " '__len__',\n",
       " '__lt__',\n",
       " '__mul__',\n",
       " '__ne__',\n",
       " '__new__',\n",
       " '__reduce__',\n",
       " '__reduce_ex__',\n",
       " '__repr__',\n",
       " '__reversed__',\n",
       " '__rmul__',\n",
       " '__setattr__',\n",
       " '__setitem__',\n",
       " '__sizeof__',\n",
       " '__str__',\n",
       " '__subclasshook__',\n",
       " 'append',\n",
       " 'clear',\n",
       " 'copy',\n",
       " 'count',\n",
       " 'extend',\n",
       " 'index',\n",
       " 'insert',\n",
       " 'pop',\n",
       " 'remove',\n",
       " 'reverse',\n",
       " 'sort']"
      ]
     },
     "execution_count": 131,
     "metadata": {},
     "output_type": "execute_result"
    }
   ],
   "source": [
    "dir(myProfile['friends'])"
   ]
  },
  {
   "cell_type": "code",
   "execution_count": 132,
   "id": "8810cc21-184a-47d4-aca1-4eee8e3f515b",
   "metadata": {},
   "outputs": [
    {
     "name": "stdout",
     "output_type": "stream",
     "text": [
      "Help on method-wrapper:\n",
      "\n",
      "__len__() unbound builtins.list method\n",
      "    Return len(self).\n",
      "\n"
     ]
    }
   ],
   "source": [
    "help(myProfile['friends'].__len__)"
   ]
  },
  {
   "cell_type": "code",
   "execution_count": 133,
   "id": "16b81460-8bde-4a59-b39b-03441e4cbeae",
   "metadata": {},
   "outputs": [
    {
     "data": {
      "text/plain": [
       "dict_values([{'firstname': 'Hesam', 'lastName': 'Fatemizadeh'}, 21, {'ABADAN', 'KISH', 'TEHRAN'}, [{'firstname': 'mariam', 'lastname': 'shojaodin', 'age': 21, 'id': '100'}, {'firstname': 'abbas', 'lastname': 'ranjbar', 'age': 25, 'id': '101'}, {'firstname': 'ali', 'lastname': 'niazi', 'age': 23, 'id': 102}]])"
      ]
     },
     "execution_count": 133,
     "metadata": {},
     "output_type": "execute_result"
    }
   ],
   "source": [
    "myProfile.values()"
   ]
  },
  {
   "cell_type": "code",
   "execution_count": 134,
   "id": "f19ec141-e983-4241-b531-2ecf6c3e3d4d",
   "metadata": {},
   "outputs": [
    {
     "name": "stdout",
     "output_type": "stream",
     "text": [
      "mojaz ast\n"
     ]
    }
   ],
   "source": [
    "if \"age\" in myProfile.keys():\n",
    "    if myProfile[\"age\"] >= 18:\n",
    "        print(\"mojaz ast\")\n",
    "else:\n",
    "    print(\"age ra vared kon\")"
   ]
  },
  {
   "cell_type": "markdown",
   "id": "0439c981-23f5-4736-872a-59270252e2db",
   "metadata": {},
   "source": [
    "## `.file`  "
   ]
  },
  {
   "cell_type": "code",
   "execution_count": 136,
   "id": "ba119845-c2e7-4122-9663-36bc60376fd6",
   "metadata": {},
   "outputs": [],
   "source": [
    "tempFile = open('myProfile.txt','w')\n",
    "tempFile.write(str(myProfile))\n",
    "tempFile.close()"
   ]
  },
  {
   "cell_type": "code",
   "execution_count": 137,
   "id": "d10e901c-0a09-4df3-9d2e-26fd3af0835a",
   "metadata": {},
   "outputs": [
    {
     "name": "stdout",
     "output_type": "stream",
     "text": [
      "<_io.TextIOWrapper name='myProfile.txt' mode='w' encoding='cp1252'>\n"
     ]
    }
   ],
   "source": [
    "print(tempFile)"
   ]
  },
  {
   "cell_type": "code",
   "execution_count": 138,
   "id": "0be635dc-0966-464b-b21b-23f2f7aac40f",
   "metadata": {},
   "outputs": [
    {
     "name": "stdout",
     "output_type": "stream",
     "text": [
      "{'name': {'firstname': 'Hesam', 'lastName': 'Fatemizadeh'}, 'age': 21, 'cities': {'ABADAN', 'KISH', 'TEHRAN'}, 'friends': [{'firstname': 'mariam', 'lastname': 'shojaodin', 'age': 21, 'id': '100'}, {'firstname': 'abbas', 'lastname': 'ranjbar', 'age': 25, 'id': '101'}, {'firstname': 'ali', 'lastname': 'niazi', 'age': 23, 'id': 102}]}\n"
     ]
    }
   ],
   "source": [
    "inputFile = open('myProfile.txt','r')\n",
    "myProfileString = inputFile.read()\n",
    "inputFile.close()\n",
    "print(myProfileString)\n",
    "import ast\n",
    "myChangedProfile = ast.literal_eval(myProfileString)"
   ]
  },
  {
   "cell_type": "code",
   "execution_count": 139,
   "id": "3065254a-458f-4cf9-b1f8-1f4a35805366",
   "metadata": {},
   "outputs": [],
   "source": [
    "amirFile = open(\"amirProfile.txt\", \"r\")\n",
    "amirProfile = amirFile.read()\n",
    "amirFile.close()"
   ]
  },
  {
   "cell_type": "code",
   "execution_count": 140,
   "id": "05842885-ba9d-4b56-a291-2349940b933f",
   "metadata": {},
   "outputs": [
    {
     "name": "stdout",
     "output_type": "stream",
     "text": [
      "{'name': {'firstName': 'Amirhoshang', 'lastName': 'Hoseinpour Dehkordi'}, 'age': 34, 'cities': ['Tehran', 'Boston', 'Shahrekord'], 'farhadFriends': {'bestFriend': {'firstName': 'Philip', 'lastName': 'Fry', 'age': 35, 'id': 0}, 'lastButNotLeastFriend': {'firstName': 'Bender', 'lastName': 'Bending Rodríguez', 'age': 4, 'id': 1}, 0: {'firstName': 'Bender1', 'lastName': 'Bending Rodríguez', 'age': 4, 'id': 1}, 1: {'firstName': 'Bender2', 'lastName': 'Bending Rodríguez', 'age': 4, 'id': 1}, 2: {'firstName': 'Bender3', 'lastName': 'Bending Rodríguez', 'age': 4, 'id': 1}}, 'friends': [{'firstName': 'Philip', 'lastName': 'Fry', 'age': 35, 'id': 0}, {'firstName': 'Bender', 'lastName': 'Bending Rodríguez', 'age': 4, 'id': 1}, {'firstName': 'Amy', 'lastName': 'Wong', 'age': 30, 'id': 2}]}\n"
     ]
    }
   ],
   "source": [
    "print(amirProfile)"
   ]
  },
  {
   "cell_type": "markdown",
   "id": "d97f584d-c4d7-48ad-a277-70e1def96572",
   "metadata": {},
   "source": [
    "# **`session 13`**"
   ]
  },
  {
   "cell_type": "markdown",
   "id": "2e2ecf47-3389-430f-b5ef-ff91d0cd117a",
   "metadata": {},
   "source": [
    "## `.function` "
   ]
  },
  {
   "cell_type": "markdown",
   "id": "569db303-6ffc-446a-abf7-9e9e571bdd64",
   "metadata": {},
   "source": [
    "#### . len function"
   ]
  },
  {
   "cell_type": "code",
   "execution_count": 144,
   "id": "651a6d14-25cb-41a3-9dd0-8d54c7c61a9e",
   "metadata": {},
   "outputs": [
    {
     "name": "stdout",
     "output_type": "stream",
     "text": [
      "5\n"
     ]
    }
   ],
   "source": [
    "print (len(\"Hesam\"))"
   ]
  },
  {
   "cell_type": "markdown",
   "id": "4f91810b-9278-487e-98ea-7f167dfd651d",
   "metadata": {},
   "source": [
    "#### . defining a function"
   ]
  },
  {
   "cell_type": "code",
   "execution_count": 146,
   "id": "01b5ee56-6e8e-45ab-a6ee-48b52af150c2",
   "metadata": {},
   "outputs": [],
   "source": [
    "def function_name(myInput):\n",
    "    print(myInput)\n",
    "    return myInput * 2\n",
    "\n",
    "\n",
    "\n"
   ]
  },
  {
   "cell_type": "code",
   "execution_count": 147,
   "id": "4813fc6b-7e3d-4e32-9cf5-cd55220d852e",
   "metadata": {},
   "outputs": [
    {
     "name": "stdout",
     "output_type": "stream",
     "text": [
      "Hesam\n"
     ]
    },
    {
     "data": {
      "text/plain": [
       "'HesamHesam'"
      ]
     },
     "execution_count": 147,
     "metadata": {},
     "output_type": "execute_result"
    }
   ],
   "source": [
    "myFunctionValue = function_name(\"Hesam\")\n",
    "myFunctionValue"
   ]
  },
  {
   "cell_type": "markdown",
   "id": "d7c144f8-442a-4d92-b7a6-0738b8066e22",
   "metadata": {},
   "source": [
    "# $**fibonacci**$"
   ]
  },
  {
   "cell_type": "code",
   "execution_count": 149,
   "id": "0f4e355b-fd1c-4c67-877d-9488397bbed4",
   "metadata": {},
   "outputs": [
    {
     "name": "stdout",
     "output_type": "stream",
     "text": [
      "[0, 1, 1, 2, 3, 5, 8, 13, 21, 34]\n"
     ]
    }
   ],
   "source": [
    "def Fib(n):\n",
    "    fib_sequence = [0, 1]\n",
    "    \n",
    "    while len(fib_sequence) < n:\n",
    "        fib_sequence.append(fib_sequence[-1] + fib_sequence[-2])\n",
    "    \n",
    "    return fib_sequence\n",
    "\n",
    "print(Fib(10))  "
   ]
  },
  {
   "cell_type": "code",
   "execution_count": 150,
   "id": "fd3bbcc0-f917-4f72-8dd3-02584f98d5fc",
   "metadata": {},
   "outputs": [
    {
     "name": "stdout",
     "output_type": "stream",
     "text": [
      "HESAMHESAMHESAMHESAMHESAMHESAMHESAMHESAM\n"
     ]
    }
   ],
   "source": [
    "n = 3 \n",
    "mult = 1 \n",
    "for i in range (n) :\n",
    "    mult= mult * 2\n",
    "a = mult \n",
    "print (myName * a)"
   ]
  },
  {
   "cell_type": "code",
   "execution_count": 151,
   "id": "0a7d08b7-56aa-454c-91f3-2ec4233ca57e",
   "metadata": {},
   "outputs": [],
   "source": [
    "def power2(n):\n",
    "    mult = 1 \n",
    "    for i in range(n):\n",
    "        mult = mult*2\n",
    "    return mult"
   ]
  },
  {
   "cell_type": "code",
   "execution_count": 152,
   "id": "e2d9bea3-6bcb-4807-a1a6-fe051666900b",
   "metadata": {},
   "outputs": [],
   "source": [
    "def power_k(k,n):\n",
    "    mult = 1 \n",
    "    for i in range(n):\n",
    "        mult = mult*k\n",
    "    return mult"
   ]
  },
  {
   "cell_type": "code",
   "execution_count": 153,
   "id": "f79c0dfd-1fff-4c7d-b397-42b447295db2",
   "metadata": {},
   "outputs": [
    {
     "data": {
      "text/plain": [
       "81"
      ]
     },
     "execution_count": 153,
     "metadata": {},
     "output_type": "execute_result"
    }
   ],
   "source": [
    "power_k(3,4)"
   ]
  },
  {
   "cell_type": "markdown",
   "id": "84c2afab-97d3-45cf-b0cd-5b58835147a2",
   "metadata": {},
   "source": [
    "## **Q. hop game**"
   ]
  },
  {
   "cell_type": "code",
   "execution_count": 155,
   "id": "3e85ebd1-7396-465e-9e94-89c0a28bdb2e",
   "metadata": {},
   "outputs": [
    {
     "name": "stdout",
     "output_type": "stream",
     "text": [
      "1\n",
      "2\n",
      "3\n",
      "4\n",
      "HOPPP\n",
      "6\n",
      "7\n",
      "8\n",
      "9\n",
      "HOPPP\n"
     ]
    }
   ],
   "source": [
    "def hop(n :int, p: int):\n",
    "    if n % p == 0:\n",
    "        return \"HOPPP\"\n",
    "    else:\n",
    "        return n\n",
    "\n",
    "for i in range(1,11):\n",
    "    print(hop(i, 5))"
   ]
  },
  {
   "cell_type": "markdown",
   "id": "a0bfd431-f8ec-4e24-b402-18d6b444e420",
   "metadata": {},
   "source": [
    "## **Q. def swap (a,b) 4,3 = swap (3,4)**"
   ]
  },
  {
   "cell_type": "code",
   "execution_count": 157,
   "id": "ed36842c-c3e7-4c07-9fd9-78dacfbea1e2",
   "metadata": {},
   "outputs": [
    {
     "name": "stdout",
     "output_type": "stream",
     "text": [
      "(3, 4)\n",
      "(4, 3.4)\n"
     ]
    }
   ],
   "source": [
    "def swap(a :int , b: int):\n",
    "    temp = a\n",
    "    a = b\n",
    "    b = temp\n",
    "    return a, b\n",
    "\n",
    "print(swap(4, 3))\n",
    "print(swap(3.4, 4))"
   ]
  },
  {
   "cell_type": "markdown",
   "id": "e26bc934-63d5-491a-aa38-5c86bb5e4a48",
   "metadata": {},
   "source": [
    "# **`session 14`**"
   ]
  },
  {
   "cell_type": "code",
   "execution_count": 159,
   "id": "fa50978b-b7f1-421a-aede-b1e55865cdca",
   "metadata": {},
   "outputs": [],
   "source": [
    "myId = 16\n",
    "myProfile['id']= myId"
   ]
  },
  {
   "cell_type": "code",
   "execution_count": 160,
   "id": "de48b248-b54f-4aef-9f0a-0f4c99b89a65",
   "metadata": {},
   "outputs": [
    {
     "name": "stdout",
     "output_type": "stream",
     "text": [
      "{'name': {'firstname': 'Hesam', 'lastName': 'Fatemizadeh'}, 'age': 21, 'cities': {'ABADAN', 'KISH', 'TEHRAN'}, 'friends': [{'firstname': 'mariam', 'lastname': 'shojaodin', 'age': 21, 'id': '100'}, {'firstname': 'abbas', 'lastname': 'ranjbar', 'age': 25, 'id': '101'}, {'firstname': 'ali', 'lastname': 'niazi', 'age': 23, 'id': 102}], 'id': 16}\n"
     ]
    }
   ],
   "source": [
    "print(myProfile)"
   ]
  },
  {
   "cell_type": "code",
   "execution_count": 161,
   "id": "c59f3b28-a124-4cd5-9e6f-39c0e8ddefaf",
   "metadata": {},
   "outputs": [],
   "source": [
    "tempFile = open(str(myProfile['id'])+'.txt','w')\n",
    "tempFile.write(str(myProfile))\n",
    "tempFile.close()\n"
   ]
  },
  {
   "cell_type": "markdown",
   "id": "537efbb1-2bbc-4686-8555-14b1e870918d",
   "metadata": {},
   "source": [
    "# **`session 15`**"
   ]
  },
  {
   "cell_type": "code",
   "execution_count": 163,
   "id": "82d09493-d3db-41b9-8971-f13bf77a266b",
   "metadata": {},
   "outputs": [
    {
     "name": "stdout",
     "output_type": "stream",
     "text": [
      "{'name': {'first_name': 'Shayan', 'last_name': 'Shahvari'}, 'age': 20, 'cities': ['Tehran', 'Moscow', 'Kish'], 'friends': [{'first_name': 'Parsa', 'last_name': 'khaki', 'age': 30, 'id': 0}, {'first_name': 'Kiavash', 'last_name': 'abbasnejad', 'age': 37, 'id': 1}, {'first_name': 'Kourosh', 'last_name': 'ikani', 'age': 20}], 'id': 1}\n"
     ]
    }
   ],
   "source": [
    "f = open(\"classmates/1.txt\")\n",
    "data = f.read()\n",
    "f.close()\n",
    "print(data)"
   ]
  },
  {
   "cell_type": "markdown",
   "id": "2356b2c7-ff8a-490d-914a-0a3800ff13df",
   "metadata": {},
   "source": [
    "### .how to open txt file around folder ?"
   ]
  },
  {
   "cell_type": "code",
   "execution_count": 165,
   "id": "4d2f5763-3ce0-43fd-a7bd-9d6c3ff18f43",
   "metadata": {},
   "outputs": [
    {
     "name": "stdout",
     "output_type": "stream",
     "text": [
      "Contents of classmates\\1.txt:\n",
      "{'name': {'first_name': 'Shayan', 'last_name': 'Shahvari'}, 'age': 20, 'cities': ['Tehran', 'Moscow', 'Kish'], 'friends': [{'first_name': 'Parsa', 'last_name': 'khaki', 'age': 30, 'id': 0}, {'first_name': 'Kiavash', 'last_name': 'abbasnejad', 'age': 37, 'id': 1}, {'first_name': 'Kourosh', 'last_name': 'ikani', 'age': 20}], 'id': 1}\n",
      "-----------------------------\n",
      "Contents of classmates\\10.txt:\n",
      "{'name': {'firstName': 'amir_ali', 'lastName': 'mohammadi'}, 'age': 22, 'id': 10, 'cities': ['Tehran', 'kish', 'kabul'], 'farhadFriends': {'bestFriend': {'firstName': 'ikkin', 'lastName': 'golabi', 'age': 2, 'id': 0}, 'lastButNotLeastFriend': {'firstName': 'hossein', 'lastName': 'hezarpa', 'age': 40, 'id': 1}, 0: {'firstName': 'pedram', 'lastName': 'shahraki', 'age': 13, 'id': 1}, 1: {'firstName': 'Bender2', 'lastName': 'Bending Rodríguez', 'age': 4, 'id': 1}, 2: {'firstName': 'shahrooz', 'lastName': 'shabpareh', 'age': 60, 'id': 1}}, 'friends': [{'firstName': 'kamran', 'lastName': 'Fry', 'age': 80, 'id': 0}, {'firstName': 'aligoodarz', 'lastName': 'baboli', 'age': 4, 'id': 1}, {'firstName': 'parham', 'lastName': 'Wong', 'age': 30, 'id': 2}]}\n",
      "-----------------------------\n",
      "Contents of classmates\\11.txt:\n",
      "{'name': {'first_name': 'Parsa', 'last_name': 'Mollaei'}, 'age': 22, 'my_id': 11, 'cities': ['tehran', 'esfehan', 'kerman'], 'friends': [{'first_name': 'ali', 'last_name': 'Barkhodari', 'age': 22, 'id': '2'}, {'first_name': 'AmirHossein', 'last_name': 'yousefzade', 'age': 22, 'id': 2}, {'first_name': 'Parnian', 'last_name': 'Mollaei', 'age': 13, 'id': 3}]}\n",
      "-----------------------------\n",
      "Contents of classmates\\12.txt:\n",
      "{'id': 12, 'name': 'Sina', 'age': 21, 'email': 'sina.sherkat@example.com', 'location': 'Kish'}\n",
      "-----------------------------\n",
      "Contents of classmates\\13.txt:\n",
      "{'name': {'firstName': 'Fazel', 'lastName': 'Basiri'}, 'age': 25, 'cities': ['Bam', 'Shiraz', 'Kish'], 'friends': [{'firstName': 'Saeed', 'lastName': 'Ashrafian', 'age': 25}, {'firstName': 'Mahsa', 'lastName': 'Kzn', 'age':22}, {'firstName': 'Alireza', 'lastName': 'PourMoghadam', 'age':26}], 'id': 13}\n",
      "-----------------------------\n",
      "Contents of classmates\\14.txt:\n",
      "{'name': {'first name': 'Mahsa', 'last name': 'kzn'}, 'age': 22, 'cities': ['Tehran', 'Shiraz', 'Rasht', 'Mashhad'], 'friends': [{'firstname': 'Fazel', 'Lastname': 'basiri', 'age': 25, 'id': 13}, {'firstname': 'Niayesh', 'lastname': 'Mohammadi', 'age': 22, 'id': 0}], 'id': 14}\n",
      "-----------------------------\n",
      "Contents of classmates\\16.txt:\n",
      "{'name': {'firstname': 'Hesam', 'lastName': 'Fatemizadeh'}, 'age': 21, 'cities': {'TEHRAN', 'KISH', 'ABADAN'}, 'friends': [{'firstname': 'mariam', 'lastname': 'shojaodin', 'age': 21, 'id': '100'}, {'firstname': 'abbas', 'lastname': 'ranjbar', 'age': 25, 'id': '101'}, {'firstname': 'ali', 'lastname': 'niazi', 'age': 23, 'id': 102}], 'id': 16}\n",
      "-----------------------------\n",
      "Contents of classmates\\17.txt:\n",
      "{'name': {'first name': 'Mariam', 'last name': 'Shojaedin'}, 'age': 21, 'cities': ['Kaluga', 'Moscow', 'Sochi'], 'friends': [{'firstName': 'Mahsa', 'lastName': 'Rastaghi', 'age': 22, 'ID': '0'}, {'firstName': 'Hesam', 'lastName': 'Fatemizade', 'age': 21, 'ID': '1'}, {'firstName': 'Nika', 'lastName': 'Sadidi', 'age': 22, 'ID': '2'}, {'firstName': 'Ali', 'lastName': 'Niazi', 'age': 23, 'ID': '3'}], 'ID': 17}\n",
      "-----------------------------\n",
      "Contents of classmates\\18.txt:\n",
      "{'Name': {'First name': 'Mahsa', 'Last name': 'Rastaghi'}, 'Age': 22, 'Cities': ['Kish', 'Shiraz', 'Tehran'], 'Friends': [{'first name': ' Mariam', 'Last name': 'Shojaedin', 'Age': 21, 'Id': 0}, {'first name': ' Nika', 'Last name': 'Sadidi', 'Age': 22, 'Id': 1}, {'first name': ' Hesam', 'Last name': 'Fatemi zadeh', 'Age': 21, 'Id': 2}, {'first name': 'Fatemeh', 'Last name': 'Sayyadi', 'Age': 22, 'Id': '3'}], 'Id': 18}\n",
      "-----------------------------\n",
      "Contents of classmates\\19.txt:\n",
      "{'name': 'Mobina Mohammadiuon', 'age': 21, 'id': 19, 'cities': ['Tehran', 'Boston', 'Shahrkord'], 'friends': [{'firstName': 'Elaheh', 'lastName': 'HosseinAbadi', 'age': 21, 'id': 0}, {'firstName': 'Nika', 'lastName': 'Sadidi', 'age': 22, 'id': 1}, {'firstName': 'Azin', 'lastName': 'Esfandiari', 'age': 25, 'id': 2}]}\n",
      "-----------------------------\n",
      "Contents of classmates\\2.txt:\n",
      "{'name': {'firstName': 'parsa', 'lastName': 'khaki'}, 'age': 19, 'cities': ['tehran', 'boston', 'mehran'], 'friends': [{'firstName': 'shayan', 'lastname': 'shahvari', 'age': 35, 'id': 0}, {'firstName': 'kiavash', 'lastName': 'abasnejad', 'age': 21, 'id': 1}, {'firstName': 'behrad', 'lastName': 'biniaz', 'age': 30, 'id': 2}], 'id': 2}\n",
      "-----------------------------\n",
      "Contents of classmates\\4.txt:\n",
      "{'name': {'firstName': 'Zahra', 'lastName': 'Akhlaghipoor'}, 'age': 22, 'cities': ['Kish'], 'friends': [{'firstName': 'Tima', 'LastName': 'Kalhori', 'age': 19, 'id': 0}, {'firstName': 'Nikki', 'LastName': 'Khayyat', 'age': 21, 'id': 1}], 'id': 4}\n",
      "-----------------------------\n",
      "Contents of classmates\\5.txt:\n",
      "{'firstName': 'Tima', 'lastName': 'Kalhori', 'age': 19, 'cities': ['Tehran', 'Boston', 'Shahrekord'], 'friends': [{'firstName': 'philip', 'lastName': 'fry', 'age': 35, 'id': 0}, {'firstName': 'zahra', 'lastName': 'akhlaghipoor', 'age': 22, 'id': 12}, {'firstName': 'leili', 'lastname': 'shabani', 'age': 27, 'id': 32}], 'id': 5}\n",
      "-----------------------------\n",
      "Contents of classmates\\6.txt:\n",
      "{'name': {'firstname': 'Nikki', 'lastname': 'Khayyat'}, 'age': 23, 'cities': ['Tehran', 'Boston', 'Shahrekord'], 'friends': [{'firstname': 'Charles', 'lastname': 'Lec', 'age': 27, 'ID': 0}, {'firstname': 'Franco', 'lastname': 'Colapinto', 'age': 21, 'ID': 0}, {'firstname': 'Lewis', 'lastname': 'Hamilton', 'age': 40, 'ID': 0}], 'Id': 6}\n",
      "-----------------------------\n",
      "Contents of classmates\\7.txt:\n",
      "{'name': {'firstname': 'Saba', 'surname': 'Sarlak'}, 'age': 20, 'cities': ['kl', 'iis', 'maha'], 'lastCity': ['kl'], 'friends': [{'firstname': 'elnaz', 'lastname': 'ahmad', 'age': 22, 'id': 0}, {'firstname': 'asal', 'lastname': 'sabaghzade', 'age': 26, 'id': 2}, {'firstname': 'setia', 'lastname': 'dehghan', 'id': 'bestfriend', 'age': 25}], 'id': 7}\n",
      "-----------------------------\n",
      "Contents of classmates\\8.txt:\n",
      "{'name': {'first name': 'Mohammad', 'last name': 'Mohammad Khaninezhad'}, 'age': 20, 'cities': ['Tehran', 'Boston', 'Shahrekord'], 'friends': [{'first name': 'Shahrad', 'last name': 'Shahraki', 'age': 21, 'id': 0}, {'first name': 'Hossein', 'last name': 'Dehghan', 'age': 22, 'id': 1}, {'first name': 'Erfan', 'last name': 'Kasef', 'age': 23, 'id': 2}], 'id': 8}\n",
      "-----------------------------\n",
      "Contents of classmates\\9.txt:\n",
      "{'name': {'first name': 'shahrad', 'last name': 'shahraki'}, 'age': 22, 'cities': ['birjand', 'khoosf', 'tabas'], 'friends': [{'first name': 'alireza', 'last name': 'balali', 'age': 7, 'id': 2}, {'first name': 'shahrokh', 'last name': 'shahmohammadi', 'age': 40, 'id': 7}, {'first name': 'saba', 'last name': 'samaani', 'age': 34, 'id': 5}], 'id': 9}\n",
      "-----------------------------\n"
     ]
    }
   ],
   "source": [
    "import os\n",
    "import glob\n",
    "\n",
    "folder_path = 'classmates'\n",
    "\n",
    "txt_files = glob.glob(os.path.join(folder_path, '*.txt'))\n",
    "\n",
    "for file_path in txt_files:\n",
    "    with open(file_path, 'r') as file:\n",
    "        content = file.read()\n",
    "        print(f'Contents of {file_path}:')\n",
    "        print(content)\n",
    "        print('-----------------------------')"
   ]
  },
  {
   "cell_type": "code",
   "execution_count": 166,
   "id": "0fe06032-9a1f-43ca-a979-2307bbf9f393",
   "metadata": {},
   "outputs": [
    {
     "name": "stdout",
     "output_type": "stream",
     "text": [
      "['1.txt', '10.txt', '11.txt', '12.txt', '13.txt', '14.txt', '16.txt', '17.txt', '18.txt', '19.txt', '2.txt', '4.txt', '5.txt', '6.txt', '7.txt', '8.txt', '9.txt']\n"
     ]
    }
   ],
   "source": [
    "import os\n",
    "arr = os.listdir('C:\\\\Users\\\\asus\\\\advanced programming\\\\classmates')\n",
    "print(arr)"
   ]
  },
  {
   "cell_type": "code",
   "execution_count": 167,
   "id": "d6c4cca3-677c-406a-9a90-956db87b956d",
   "metadata": {},
   "outputs": [
    {
     "name": "stdout",
     "output_type": "stream",
     "text": [
      "C:\\Users\\asus\\advanced programming\n",
      "['1.txt', '10.txt', '11.txt', '12.txt', '13.txt', '14.txt', '16.txt', '17.txt', '18.txt', '19.txt', '2.txt', '4.txt', '5.txt', '6.txt', '7.txt', '8.txt', '9.txt']\n"
     ]
    }
   ],
   "source": [
    "import os\n",
    "ROOT_DIR = os.path.abspath(os.curdir)\n",
    "print(ROOT_DIR)\n",
    "arr = os.listdir(ROOT_DIR+'/classmates')\n",
    "print (arr)"
   ]
  },
  {
   "cell_type": "code",
   "execution_count": 168,
   "id": "433b1569-fd9e-42ea-91b2-bffe4e3fa12d",
   "metadata": {},
   "outputs": [
    {
     "name": "stdout",
     "output_type": "stream",
     "text": [
      "[\"{'name': {'first_name': 'Shayan', 'last_name': 'Shahvari'}, 'age': 20, 'cities': ['Tehran', 'Moscow', 'Kish'], 'friends': [{'first_name': 'Parsa', 'last_name': 'khaki', 'age': 30, 'id': 0}, {'first_name': 'Kiavash', 'last_name': 'abbasnejad', 'age': 37, 'id': 1}, {'first_name': 'Kourosh', 'last_name': 'ikani', 'age': 20}], 'id': 1}\", \"{'name': {'firstName': 'amir_ali', 'lastName': 'mohammadi'}, 'age': 22, 'id': 10, 'cities': ['Tehran', 'kish', 'kabul'], 'farhadFriends': {'bestFriend': {'firstName': 'ikkin', 'lastName': 'golabi', 'age': 2, 'id': 0}, 'lastButNotLeastFriend': {'firstName': 'hossein', 'lastName': 'hezarpa', 'age': 40, 'id': 1}, 0: {'firstName': 'pedram', 'lastName': 'shahraki', 'age': 13, 'id': 1}, 1: {'firstName': 'Bender2', 'lastName': 'Bending Rodríguez', 'age': 4, 'id': 1}, 2: {'firstName': 'shahrooz', 'lastName': 'shabpareh', 'age': 60, 'id': 1}}, 'friends': [{'firstName': 'kamran', 'lastName': 'Fry', 'age': 80, 'id': 0}, {'firstName': 'aligoodarz', 'lastName': 'baboli', 'age': 4, 'id': 1}, {'firstName': 'parham', 'lastName': 'Wong', 'age': 30, 'id': 2}]}\", \"{'name': {'first_name': 'Parsa', 'last_name': 'Mollaei'}, 'age': 22, 'my_id': 11, 'cities': ['tehran', 'esfehan', 'kerman'], 'friends': [{'first_name': 'ali', 'last_name': 'Barkhodari', 'age': 22, 'id': '2'}, {'first_name': 'AmirHossein', 'last_name': 'yousefzade', 'age': 22, 'id': 2}, {'first_name': 'Parnian', 'last_name': 'Mollaei', 'age': 13, 'id': 3}]}\", \"{'id': 12, 'name': 'Sina', 'age': 21, 'email': 'sina.sherkat@example.com', 'location': 'Kish'}\", \"{'name': {'firstName': 'Fazel', 'lastName': 'Basiri'}, 'age': 25, 'cities': ['Bam', 'Shiraz', 'Kish'], 'friends': [{'firstName': 'Saeed', 'lastName': 'Ashrafian', 'age': 25}, {'firstName': 'Mahsa', 'lastName': 'Kzn', 'age':22}, {'firstName': 'Alireza', 'lastName': 'PourMoghadam', 'age':26}], 'id': 13}\", \"{'name': {'first name': 'Mahsa', 'last name': 'kzn'}, 'age': 22, 'cities': ['Tehran', 'Shiraz', 'Rasht', 'Mashhad'], 'friends': [{'firstname': 'Fazel', 'Lastname': 'basiri', 'age': 25, 'id': 13}, {'firstname': 'Niayesh', 'lastname': 'Mohammadi', 'age': 22, 'id': 0}], 'id': 14}\", \"{'name': {'firstname': 'Hesam', 'lastName': 'Fatemizadeh'}, 'age': 21, 'cities': {'TEHRAN', 'KISH', 'ABADAN'}, 'friends': [{'firstname': 'mariam', 'lastname': 'shojaodin', 'age': 21, 'id': '100'}, {'firstname': 'abbas', 'lastname': 'ranjbar', 'age': 25, 'id': '101'}, {'firstname': 'ali', 'lastname': 'niazi', 'age': 23, 'id': 102}], 'id': 16}\", \"{'name': {'first name': 'Mariam', 'last name': 'Shojaedin'}, 'age': 21, 'cities': ['Kaluga', 'Moscow', 'Sochi'], 'friends': [{'firstName': 'Mahsa', 'lastName': 'Rastaghi', 'age': 22, 'ID': '0'}, {'firstName': 'Hesam', 'lastName': 'Fatemizade', 'age': 21, 'ID': '1'}, {'firstName': 'Nika', 'lastName': 'Sadidi', 'age': 22, 'ID': '2'}, {'firstName': 'Ali', 'lastName': 'Niazi', 'age': 23, 'ID': '3'}], 'ID': 17}\", \"{'Name': {'First name': 'Mahsa', 'Last name': 'Rastaghi'}, 'Age': 22, 'Cities': ['Kish', 'Shiraz', 'Tehran'], 'Friends': [{'first name': ' Mariam', 'Last name': 'Shojaedin', 'Age': 21, 'Id': 0}, {'first name': ' Nika', 'Last name': 'Sadidi', 'Age': 22, 'Id': 1}, {'first name': ' Hesam', 'Last name': 'Fatemi zadeh', 'Age': 21, 'Id': 2}, {'first name': 'Fatemeh', 'Last name': 'Sayyadi', 'Age': 22, 'Id': '3'}], 'Id': 18}\", \"{'name': 'Mobina Mohammadiuon', 'age': 21, 'id': 19, 'cities': ['Tehran', 'Boston', 'Shahrkord'], 'friends': [{'firstName': 'Elaheh', 'lastName': 'HosseinAbadi', 'age': 21, 'id': 0}, {'firstName': 'Nika', 'lastName': 'Sadidi', 'age': 22, 'id': 1}, {'firstName': 'Azin', 'lastName': 'Esfandiari', 'age': 25, 'id': 2}]}\", \"{'name': {'firstName': 'parsa', 'lastName': 'khaki'}, 'age': 19, 'cities': ['tehran', 'boston', 'mehran'], 'friends': [{'firstName': 'shayan', 'lastname': 'shahvari', 'age': 35, 'id': 0}, {'firstName': 'kiavash', 'lastName': 'abasnejad', 'age': 21, 'id': 1}, {'firstName': 'behrad', 'lastName': 'biniaz', 'age': 30, 'id': 2}], 'id': 2}\", \"{'name': {'firstName': 'Zahra', 'lastName': 'Akhlaghipoor'}, 'age': 22, 'cities': ['Kish'], 'friends': [{'firstName': 'Tima', 'LastName': 'Kalhori', 'age': 19, 'id': 0}, {'firstName': 'Nikki', 'LastName': 'Khayyat', 'age': 21, 'id': 1}], 'id': 4}\", \"{'firstName': 'Tima', 'lastName': 'Kalhori', 'age': 19, 'cities': ['Tehran', 'Boston', 'Shahrekord'], 'friends': [{'firstName': 'philip', 'lastName': 'fry', 'age': 35, 'id': 0}, {'firstName': 'zahra', 'lastName': 'akhlaghipoor', 'age': 22, 'id': 12}, {'firstName': 'leili', 'lastname': 'shabani', 'age': 27, 'id': 32}], 'id': 5}\", \"{'name': {'firstname': 'Nikki', 'lastname': 'Khayyat'}, 'age': 23, 'cities': ['Tehran', 'Boston', 'Shahrekord'], 'friends': [{'firstname': 'Charles', 'lastname': 'Lec', 'age': 27, 'ID': 0}, {'firstname': 'Franco', 'lastname': 'Colapinto', 'age': 21, 'ID': 0}, {'firstname': 'Lewis', 'lastname': 'Hamilton', 'age': 40, 'ID': 0}], 'Id': 6}\", \"{'name': {'firstname': 'Saba', 'surname': 'Sarlak'}, 'age': 20, 'cities': ['kl', 'iis', 'maha'], 'lastCity': ['kl'], 'friends': [{'firstname': 'elnaz', 'lastname': 'ahmad', 'age': 22, 'id': 0}, {'firstname': 'asal', 'lastname': 'sabaghzade', 'age': 26, 'id': 2}, {'firstname': 'setia', 'lastname': 'dehghan', 'id': 'bestfriend', 'age': 25}], 'id': 7}\", \"{'name': {'first name': 'Mohammad', 'last name': 'Mohammad Khaninezhad'}, 'age': 20, 'cities': ['Tehran', 'Boston', 'Shahrekord'], 'friends': [{'first name': 'Shahrad', 'last name': 'Shahraki', 'age': 21, 'id': 0}, {'first name': 'Hossein', 'last name': 'Dehghan', 'age': 22, 'id': 1}, {'first name': 'Erfan', 'last name': 'Kasef', 'age': 23, 'id': 2}], 'id': 8}\", \"{'name': {'first name': 'shahrad', 'last name': 'shahraki'}, 'age': 22, 'cities': ['birjand', 'khoosf', 'tabas'], 'friends': [{'first name': 'alireza', 'last name': 'balali', 'age': 7, 'id': 2}, {'first name': 'shahrokh', 'last name': 'shahmohammadi', 'age': 40, 'id': 7}, {'first name': 'saba', 'last name': 'samaani', 'age': 34, 'id': 5}], 'id': 9}\"]\n"
     ]
    }
   ],
   "source": [
    "import os\n",
    "ROOT_DIR = os.path.abspath(os.curdir)\n",
    "listOfFiles = os.listdir(ROOT_DIR+'/classmates')\n",
    "listOfProfiles = []\n",
    "for i in listOfFiles:\n",
    "    f = open('classmates/'+i)\n",
    "    tempProfile = f.read()\n",
    "    listOfProfiles.append(tempProfile)\n",
    "    f.close()\n",
    "print(listOfProfiles)"
   ]
  },
  {
   "cell_type": "markdown",
   "id": "a6ae2b63-0a76-445f-8916-b0ecb03bc770",
   "metadata": {},
   "source": []
  }
 ],
 "metadata": {
  "kernelspec": {
   "display_name": "Python 3 (ipykernel)",
   "language": "python",
   "name": "python3"
  },
  "language_info": {
   "codemirror_mode": {
    "name": "ipython",
    "version": 3
   },
   "file_extension": ".py",
   "mimetype": "text/x-python",
   "name": "python",
   "nbconvert_exporter": "python",
   "pygments_lexer": "ipython3",
   "version": "3.12.4"
  }
 },
 "nbformat": 4,
 "nbformat_minor": 5
}
